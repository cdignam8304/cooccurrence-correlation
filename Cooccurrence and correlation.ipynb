{
 "cells": [
  {
   "cell_type": "markdown",
   "metadata": {},
   "source": [
    "### Libraries"
   ]
  },
  {
   "cell_type": "code",
   "execution_count": null,
   "metadata": {
    "ExecuteTime": {
     "end_time": "2020-11-16T14:21:09.335695Z",
     "start_time": "2020-11-16T14:21:09.328876Z"
    },
    "code_folding": []
   },
   "outputs": [],
   "source": [
    "# Get libraries\n",
    "import seaborn as sns\n",
    "import pandas as pd\n",
    "from matplotlib import pyplot as plt\n",
    "%matplotlib inline\n",
    "from pycaret.classification import *\n",
    "from pycaret.regression import *\n",
    "from scipy.stats import chi2_contingency"
   ]
  },
  {
   "cell_type": "markdown",
   "metadata": {},
   "source": [
    "### Data"
   ]
  },
  {
   "cell_type": "code",
   "execution_count": null,
   "metadata": {
    "ExecuteTime": {
     "end_time": "2020-11-16T09:54:30.327397Z",
     "start_time": "2020-11-16T09:54:29.036737Z"
    },
    "code_folding": [
     0
    ]
   },
   "outputs": [],
   "source": [
    "# Get data\n",
    "df = sns.load_dataset('penguins')\n",
    "df.head()"
   ]
  },
  {
   "cell_type": "code",
   "execution_count": null,
   "metadata": {
    "ExecuteTime": {
     "end_time": "2020-11-16T09:55:37.108856Z",
     "start_time": "2020-11-16T09:55:37.103960Z"
    }
   },
   "outputs": [],
   "source": [
    "df.shape"
   ]
  },
  {
   "cell_type": "code",
   "execution_count": null,
   "metadata": {
    "ExecuteTime": {
     "end_time": "2020-11-16T14:45:02.093103Z",
     "start_time": "2020-11-16T14:45:02.088542Z"
    }
   },
   "outputs": [],
   "source": [
    "# df.info()"
   ]
  },
  {
   "cell_type": "markdown",
   "metadata": {},
   "source": [
    "### Relationships between variables"
   ]
  },
  {
   "cell_type": "markdown",
   "metadata": {},
   "source": [
    "#### General"
   ]
  },
  {
   "cell_type": "code",
   "execution_count": null,
   "metadata": {
    "ExecuteTime": {
     "end_time": "2020-11-16T10:03:52.960606Z",
     "start_time": "2020-11-16T10:03:52.696047Z"
    },
    "code_folding": [
     0
    ],
    "scrolled": true
   },
   "outputs": [],
   "source": [
    "# Plot categorical variables\n",
    "fig = plt.figure(figsize=(15,2))\n",
    "ax1 = fig.add_subplot(131)\n",
    "df[\"species\"].value_counts().plot(kind=\"barh\")\n",
    "ax1.set_title(\"species\")\n",
    "ax2 = fig.add_subplot(132)\n",
    "df[\"island\"].value_counts().plot(kind=\"barh\")\n",
    "ax2.set_title(\"island\")\n",
    "ax3 = fig.add_subplot(133)\n",
    "df[\"sex\"].value_counts().plot(kind=\"barh\")\n",
    "ax3.set_title(\"sex\")\n",
    "plt.tight_layout()"
   ]
  },
  {
   "cell_type": "markdown",
   "metadata": {},
   "source": [
    "##### Co-occourrence"
   ]
  },
  {
   "cell_type": "code",
   "execution_count": null,
   "metadata": {
    "ExecuteTime": {
     "end_time": "2020-11-16T11:03:34.709893Z",
     "start_time": "2020-11-16T11:03:34.410875Z"
    },
    "code_folding": [
     0
    ]
   },
   "outputs": [],
   "source": [
    "# Cooccurrence\n",
    "fig = plt.figure(figsize=(12,4))\n",
    "\n",
    "ax1 = fig.add_subplot(121)\n",
    "sns.heatmap(pd.crosstab(\n",
    "    df[\"species\"],\n",
    "    df[\"island\"],\n",
    "    normalize=False,\n",
    "    margins=True,\n",
    "    margins_name=\"Total\",\n",
    "),cmap=\"Blues\", annot=True, cbar=False, fmt=\"g\")\n",
    "ax1.set_title(\"Cooccurrence - absolute\")\n",
    "\n",
    "ax2 = fig.add_subplot(122)\n",
    "sns.heatmap(pd.crosstab(\n",
    "    df[\"species\"],\n",
    "    df[\"island\"],\n",
    "    normalize=True,\n",
    "    margins=True,\n",
    "    margins_name=\"Total\",\n",
    "),cmap=\"Blues\", annot=True, cbar=False, fmt=\".3g\")\n",
    "ax2.set_title(\"Cooccurrence - normalized\")\n",
    "\n",
    "plt.tight_layout()"
   ]
  },
  {
   "cell_type": "markdown",
   "metadata": {},
   "source": [
    "##### Chi^2 test for independence"
   ]
  },
  {
   "cell_type": "code",
   "execution_count": null,
   "metadata": {
    "ExecuteTime": {
     "end_time": "2020-11-16T14:33:38.052473Z",
     "start_time": "2020-11-16T14:33:38.026445Z"
    }
   },
   "outputs": [],
   "source": [
    "contingency_table = pd.crosstab(df[\"species\"], df[\"island\"])\n",
    "contingency_table"
   ]
  },
  {
   "cell_type": "code",
   "execution_count": null,
   "metadata": {
    "ExecuteTime": {
     "end_time": "2020-11-16T14:33:40.348022Z",
     "start_time": "2020-11-16T14:33:40.342021Z"
    }
   },
   "outputs": [],
   "source": [
    "stat, p, dof, expected = chi2_contingency(contingency_table)\n",
    "# interpret p-value \n",
    "alpha = 0.05\n",
    "print(\"p value is \" + str(p)) \n",
    "if p <= alpha: \n",
    "    print('Dependent (reject H0)') \n",
    "else: \n",
    "    print('Independent (H0 holds true)')"
   ]
  },
  {
   "cell_type": "markdown",
   "metadata": {},
   "source": [
    "##### Correlation"
   ]
  },
  {
   "cell_type": "code",
   "execution_count": null,
   "metadata": {
    "ExecuteTime": {
     "end_time": "2020-11-16T10:45:52.381734Z",
     "start_time": "2020-11-16T10:45:52.137643Z"
    },
    "code_folding": [
     0
    ]
   },
   "outputs": [],
   "source": [
    "# Correlation\n",
    "r_2 = df[[\"flipper_length_mm\", \"body_mass_g\"]].corr().iloc[0][1]\n",
    "\n",
    "fig = plt.figure(figsize=(7,5))\n",
    "fig.add_subplot(111)\n",
    "p1 = sns.regplot(data=df, x=\"flipper_length_mm\", y=\"body_mass_g\", fit_reg=True, marker=\"o\", color=\"royalblue\", scatter_kws={'s':40})\n",
    "p1.text(185, 5750, f\"R^2 = {r_2:.2f}\", horizontalalignment='left', size='large', color='dimgray', weight='normal')\n",
    "plt.grid()\n",
    "plt.title(\"Correlation\")\n",
    "plt.tight_layout()"
   ]
  },
  {
   "cell_type": "code",
   "execution_count": null,
   "metadata": {
    "ExecuteTime": {
     "end_time": "2020-11-16T14:22:21.081989Z",
     "start_time": "2020-11-16T14:22:21.078990Z"
    }
   },
   "outputs": [],
   "source": [
    "# Chi^2 for independence"
   ]
  },
  {
   "cell_type": "markdown",
   "metadata": {},
   "source": [
    "#### Machine learning"
   ]
  },
  {
   "cell_type": "markdown",
   "metadata": {},
   "source": [
    "##### Given flipper_length_mm can we predict body_mass_g?"
   ]
  },
  {
   "cell_type": "code",
   "execution_count": null,
   "metadata": {
    "ExecuteTime": {
     "end_time": "2020-11-16T12:18:09.646383Z",
     "start_time": "2020-11-16T12:18:05.908779Z"
    },
    "scrolled": true
   },
   "outputs": [],
   "source": [
    "reg1 = setup(df[[\"flipper_length_mm\", \"body_mass_g\"]], target='body_mass_g', session_id=123, log_experiment=True, experiment_name='regression_test')"
   ]
  },
  {
   "cell_type": "code",
   "execution_count": null,
   "metadata": {
    "ExecuteTime": {
     "end_time": "2020-11-16T12:19:03.579933Z",
     "start_time": "2020-11-16T12:18:41.271909Z"
    },
    "scrolled": true
   },
   "outputs": [],
   "source": [
    "best_model = compare_models(fold=5)"
   ]
  },
  {
   "cell_type": "code",
   "execution_count": null,
   "metadata": {
    "ExecuteTime": {
     "end_time": "2020-11-16T12:21:11.013217Z",
     "start_time": "2020-11-16T12:21:10.996259Z"
    },
    "scrolled": true
   },
   "outputs": [],
   "source": [
    "models()"
   ]
  },
  {
   "cell_type": "code",
   "execution_count": null,
   "metadata": {
    "ExecuteTime": {
     "end_time": "2020-11-16T12:21:27.076358Z",
     "start_time": "2020-11-16T12:21:26.409827Z"
    },
    "scrolled": true
   },
   "outputs": [],
   "source": [
    "lr = create_model('lr')"
   ]
  },
  {
   "cell_type": "code",
   "execution_count": null,
   "metadata": {
    "ExecuteTime": {
     "end_time": "2020-11-16T12:24:15.796725Z",
     "start_time": "2020-11-16T12:24:15.418685Z"
    }
   },
   "outputs": [],
   "source": [
    "fig = plt.figure(figsize=(12,5))\n",
    "fig.add_subplot(111)\n",
    "plot_model(lr)"
   ]
  },
  {
   "cell_type": "code",
   "execution_count": null,
   "metadata": {
    "ExecuteTime": {
     "end_time": "2020-11-16T12:25:04.274517Z",
     "start_time": "2020-11-16T12:25:04.076484Z"
    }
   },
   "outputs": [],
   "source": [
    "fig = plt.figure(figsize=(7,7))\n",
    "fig.add_subplot(111)\n",
    "plot_model(lr, plot='error')"
   ]
  },
  {
   "cell_type": "markdown",
   "metadata": {},
   "source": [
    "##### Given the island, can we predict the species?"
   ]
  },
  {
   "cell_type": "code",
   "execution_count": null,
   "metadata": {
    "ExecuteTime": {
     "end_time": "2020-11-16T11:14:52.101784Z",
     "start_time": "2020-11-16T11:14:44.896580Z"
    },
    "scrolled": true
   },
   "outputs": [],
   "source": [
    "clf1 = setup(df[[\"island\", \"species\"]], target='species', session_id=42, log_experiment=True, experiment_name='corr_test')"
   ]
  },
  {
   "cell_type": "code",
   "execution_count": null,
   "metadata": {
    "ExecuteTime": {
     "end_time": "2020-11-16T11:49:28.966509Z",
     "start_time": "2020-11-16T11:49:02.208073Z"
    },
    "scrolled": true
   },
   "outputs": [],
   "source": [
    "best_model = compare_models()"
   ]
  },
  {
   "cell_type": "code",
   "execution_count": null,
   "metadata": {
    "ExecuteTime": {
     "end_time": "2020-11-16T11:50:00.569460Z",
     "start_time": "2020-11-16T11:49:59.761233Z"
    },
    "scrolled": true
   },
   "outputs": [],
   "source": [
    "lr = create_model('lr')"
   ]
  },
  {
   "cell_type": "code",
   "execution_count": null,
   "metadata": {
    "ExecuteTime": {
     "end_time": "2020-11-16T11:51:38.287557Z",
     "start_time": "2020-11-16T11:51:34.024206Z"
    },
    "scrolled": true
   },
   "outputs": [],
   "source": [
    "tuned_lr = tune_model(lr)"
   ]
  },
  {
   "cell_type": "code",
   "execution_count": null,
   "metadata": {
    "ExecuteTime": {
     "end_time": "2020-11-16T11:54:37.824170Z",
     "start_time": "2020-11-16T11:54:37.498966Z"
    }
   },
   "outputs": [],
   "source": [
    "plot_model(lr)"
   ]
  },
  {
   "cell_type": "code",
   "execution_count": null,
   "metadata": {
    "ExecuteTime": {
     "end_time": "2020-11-16T11:55:18.951853Z",
     "start_time": "2020-11-16T11:55:18.813820Z"
    }
   },
   "outputs": [],
   "source": [
    "plot_model(lr, plot = 'confusion_matrix')"
   ]
  },
  {
   "cell_type": "code",
   "execution_count": null,
   "metadata": {
    "ExecuteTime": {
     "end_time": "2020-11-16T11:56:10.020944Z",
     "start_time": "2020-11-16T11:56:09.829945Z"
    }
   },
   "outputs": [],
   "source": [
    "plot_model(lr, plot = 'class_report')"
   ]
  },
  {
   "cell_type": "code",
   "execution_count": null,
   "metadata": {
    "ExecuteTime": {
     "end_time": "2020-11-16T11:58:42.836413Z",
     "start_time": "2020-11-16T11:58:42.661343Z"
    }
   },
   "outputs": [],
   "source": [
    "plot_model(lr, plot = 'pr')"
   ]
  }
 ],
 "metadata": {
  "hide_input": false,
  "kernelspec": {
   "display_name": "Python 3",
   "language": "python",
   "name": "python3"
  },
  "language_info": {
   "codemirror_mode": {
    "name": "ipython",
    "version": 3
   },
   "file_extension": ".py",
   "mimetype": "text/x-python",
   "name": "python",
   "nbconvert_exporter": "python",
   "pygments_lexer": "ipython3",
   "version": "3.7.1"
  },
  "toc": {
   "base_numbering": 1,
   "nav_menu": {},
   "number_sections": true,
   "sideBar": true,
   "skip_h1_title": true,
   "title_cell": "Table of Contents",
   "title_sidebar": "Contents",
   "toc_cell": false,
   "toc_position": {
    "height": "calc(100% - 180px)",
    "left": "10px",
    "top": "150px",
    "width": "177.198px"
   },
   "toc_section_display": true,
   "toc_window_display": true
  },
  "varInspector": {
   "cols": {
    "lenName": 16,
    "lenType": 16,
    "lenVar": 40
   },
   "kernels_config": {
    "python": {
     "delete_cmd_postfix": "",
     "delete_cmd_prefix": "del ",
     "library": "var_list.py",
     "varRefreshCmd": "print(var_dic_list())"
    },
    "r": {
     "delete_cmd_postfix": ") ",
     "delete_cmd_prefix": "rm(",
     "library": "var_list.r",
     "varRefreshCmd": "cat(var_dic_list()) "
    }
   },
   "types_to_exclude": [
    "module",
    "function",
    "builtin_function_or_method",
    "instance",
    "_Feature"
   ],
   "window_display": false
  }
 },
 "nbformat": 4,
 "nbformat_minor": 4
}
